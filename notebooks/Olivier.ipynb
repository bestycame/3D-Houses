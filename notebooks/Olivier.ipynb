{
 "cells": [
  {
   "cell_type": "code",
   "execution_count": 1,
   "metadata": {},
   "outputs": [
    {
     "name": "stdout",
     "output_type": "stream",
     "text": [
      "Jupyter environment detected. Enabling Open3D WebVisualizer.\n",
      "[Open3D INFO] WebRTC GUI backend enabled.\n",
      "[Open3D INFO] WebRTCWindowSystem: HTTP handshake server disabled.\n"
     ]
    }
   ],
   "source": [
    "import rasterio\n",
    "from rasterio.features import shapes\n",
    "from rasterio.plot import show\n",
    "from rasterio.plot import show_hist\n",
    "from rasterio.mask import mask\n",
    "from shapely.geometry import box\n",
    "from fiona.crs import from_epsg\n",
    "from matplotlib.colors import LightSource\n",
    "import geopandas as gpd\n",
    "import requests\n",
    "import numpy as np\n",
    "import pandas as pd\n",
    "import plotly.graph_objects as go\n",
    "import open3d as o3d\n",
    "import matplotlib.pyplot as plt\n",
    "import seaborn as sns\n",
    "import fiona\n",
    "import pycrs\n",
    "import json\n",
    "import pprint\n",
    "import plotly.graph_objs as go\n",
    "import plotly.express as px\n",
    "from datetime import datetime"
   ]
  },
  {
   "cell_type": "code",
   "execution_count": 2,
   "metadata": {},
   "outputs": [],
   "source": [
    "DATAS =  {'LGE' : {'MNT': '/media/bestycame/407C5CD57C5CC776/3D/RELIEF_WALLONIE_MNT_2013_2014_LIEGE.tif',\n",
    "                   'MNS': '/media/bestycame/407C5CD57C5CC776/3D/RELIEF_WALLONIE_MNS_2013_2014_LIEGE.tif'},\n",
    "          'HAI' : {'MNT': '/mnt/3D/RELIEF_WALLONIE_MNT_2013_2014_HAINAUT.tif',\n",
    "                   'MNS': '/mnt/3D/RELIEF_WALLONIE_MNS_2013_2014_HAINAUT.tif'},\n",
    "          'LUX' : {'MNT': '/mnt/3D/RELIEF_WALLONIE_MNT_2013_2014_LUXEMBOURG.tif',\n",
    "                   'MNS': '/mnt/3D/RELIEF_WALLONIE_MNS_2013_2014_LUXEMBOURG.tif'},\n",
    "          'NAM' : {'MNT': '/mnt/3D/RELIEF_WALLONIE_MNT_2013_2014_NAMUR.tif',\n",
    "                   'MNS': '/mnt/3D/RELIEF_WALLONIE_MNS_2013_2014_NAMUR.tif'},\n",
    "          'BRA' : {'MNT': '/mnt/3D/RELIEF_WALLONIE_MNT_2013_2014_BRABANT.tif',\n",
    "                   'MNS': '/mnt/3D/RELIEF_WALLONIE_MNS_2013_2014_BRABANT.tif'}}"
   ]
  },
  {
   "cell_type": "code",
   "execution_count": 3,
   "metadata": {},
   "outputs": [],
   "source": [
    "# gdal_calc.py -A DSM/GeoTIFF/DHMVII_DSM_1m_testdata.tif -B ./dtm_1m.tif --outfile=CHM.tif --calc=\"A-B\" --NoDataValue=0\n",
    "# gdalwarp  DTM/GeoTIFF/DHMVII_DTM_5m_testdata.tif test.tif -tr 1 1 -r near\n",
    "# gdal_contour -3d -a elev chm.tif contour.shp -i 0.5 -snodata 0b"
   ]
  },
  {
   "cell_type": "code",
   "execution_count": 4,
   "metadata": {},
   "outputs": [
    {
     "name": "stderr",
     "output_type": "stream",
     "text": [
      "ERROR - 2021-06-28 11:12:03,527 - collection - ./BATI3D_2013-2014_FILEGDB_31370/BATI3D_2013-2014.gdb: No such file or directory\n"
     ]
    },
    {
     "ename": "DriverError",
     "evalue": "./BATI3D_2013-2014_FILEGDB_31370/BATI3D_2013-2014.gdb: No such file or directory",
     "output_type": "error",
     "traceback": [
      "\u001b[0;31m---------------------------------------------------------------------------\u001b[0m",
      "\u001b[0;31mCPLE_OpenFailedError\u001b[0m                      Traceback (most recent call last)",
      "\u001b[0;32mfiona/_shim.pyx\u001b[0m in \u001b[0;36mfiona._shim.gdal_open_vector\u001b[0;34m()\u001b[0m\n",
      "\u001b[0;32mfiona/_err.pyx\u001b[0m in \u001b[0;36mfiona._err.exc_wrap_pointer\u001b[0;34m()\u001b[0m\n",
      "\u001b[0;31mCPLE_OpenFailedError\u001b[0m: ./BATI3D_2013-2014_FILEGDB_31370/BATI3D_2013-2014.gdb: No such file or directory",
      "\nDuring handling of the above exception, another exception occurred:\n",
      "\u001b[0;31mDriverError\u001b[0m                               Traceback (most recent call last)",
      "\u001b[0;32m<ipython-input-4-c0790593ac2f>\u001b[0m in \u001b[0;36m<module>\u001b[0;34m\u001b[0m\n\u001b[0;32m----> 1\u001b[0;31m \u001b[0mgdb\u001b[0m \u001b[0;34m=\u001b[0m \u001b[0mfiona\u001b[0m\u001b[0;34m.\u001b[0m\u001b[0mopen\u001b[0m\u001b[0;34m(\u001b[0m\u001b[0;34m'./BATI3D_2013-2014_FILEGDB_31370/BATI3D_2013-2014.gdb'\u001b[0m\u001b[0;34m,\u001b[0m \u001b[0mlayer\u001b[0m\u001b[0;34m=\u001b[0m\u001b[0;36m1\u001b[0m\u001b[0;34m)\u001b[0m\u001b[0;34m\u001b[0m\u001b[0;34m\u001b[0m\u001b[0m\n\u001b[0m\u001b[1;32m      2\u001b[0m \u001b[0mhits\u001b[0m \u001b[0;34m=\u001b[0m \u001b[0mlist\u001b[0m\u001b[0;34m(\u001b[0m\u001b[0mgdb\u001b[0m\u001b[0;34m.\u001b[0m\u001b[0mitems\u001b[0m\u001b[0;34m(\u001b[0m\u001b[0mbbox\u001b[0m\u001b[0;34m=\u001b[0m\u001b[0;34m(\u001b[0m\u001b[0mxMin\u001b[0m\u001b[0;34m,\u001b[0m \u001b[0myMin\u001b[0m\u001b[0;34m,\u001b[0m \u001b[0mxMax\u001b[0m\u001b[0;34m,\u001b[0m \u001b[0myMax\u001b[0m\u001b[0;34m)\u001b[0m\u001b[0;34m)\u001b[0m\u001b[0;34m)\u001b[0m\u001b[0;34m\u001b[0m\u001b[0;34m\u001b[0m\u001b[0m\n\u001b[1;32m      3\u001b[0m \u001b[0mmeshes\u001b[0m \u001b[0;34m=\u001b[0m \u001b[0;34m[\u001b[0m\u001b[0;34m]\u001b[0m\u001b[0;34m\u001b[0m\u001b[0;34m\u001b[0m\u001b[0m\n\u001b[1;32m      4\u001b[0m \u001b[0;32mfor\u001b[0m \u001b[0mhit\u001b[0m \u001b[0;32min\u001b[0m \u001b[0mhits\u001b[0m\u001b[0;34m:\u001b[0m\u001b[0;34m\u001b[0m\u001b[0;34m\u001b[0m\u001b[0m\n\u001b[1;32m      5\u001b[0m     \u001b[0mpoints\u001b[0m \u001b[0;34m=\u001b[0m \u001b[0mhit\u001b[0m\u001b[0;34m[\u001b[0m\u001b[0;36m1\u001b[0m\u001b[0;34m]\u001b[0m\u001b[0;34m[\u001b[0m\u001b[0;34m'geometry'\u001b[0m\u001b[0;34m]\u001b[0m\u001b[0;34m[\u001b[0m\u001b[0;34m'coordinates'\u001b[0m\u001b[0;34m]\u001b[0m\u001b[0;34m\u001b[0m\u001b[0;34m\u001b[0m\u001b[0m\n",
      "\u001b[0;32m~/.local/lib/python3.8/site-packages/fiona/env.py\u001b[0m in \u001b[0;36mwrapper\u001b[0;34m(*args, **kwargs)\u001b[0m\n\u001b[1;32m    415\u001b[0m             \u001b[0;32mwith\u001b[0m \u001b[0mEnv\u001b[0m\u001b[0;34m.\u001b[0m\u001b[0mfrom_defaults\u001b[0m\u001b[0;34m(\u001b[0m\u001b[0msession\u001b[0m\u001b[0;34m=\u001b[0m\u001b[0msession\u001b[0m\u001b[0;34m)\u001b[0m\u001b[0;34m:\u001b[0m\u001b[0;34m\u001b[0m\u001b[0;34m\u001b[0m\u001b[0m\n\u001b[1;32m    416\u001b[0m                 \u001b[0mlog\u001b[0m\u001b[0;34m.\u001b[0m\u001b[0mdebug\u001b[0m\u001b[0;34m(\u001b[0m\u001b[0;34m\"Credentialized: {!r}\"\u001b[0m\u001b[0;34m.\u001b[0m\u001b[0mformat\u001b[0m\u001b[0;34m(\u001b[0m\u001b[0mgetenv\u001b[0m\u001b[0;34m(\u001b[0m\u001b[0;34m)\u001b[0m\u001b[0;34m)\u001b[0m\u001b[0;34m)\u001b[0m\u001b[0;34m\u001b[0m\u001b[0;34m\u001b[0m\u001b[0m\n\u001b[0;32m--> 417\u001b[0;31m                 \u001b[0;32mreturn\u001b[0m \u001b[0mf\u001b[0m\u001b[0;34m(\u001b[0m\u001b[0;34m*\u001b[0m\u001b[0margs\u001b[0m\u001b[0;34m,\u001b[0m \u001b[0;34m**\u001b[0m\u001b[0mkwargs\u001b[0m\u001b[0;34m)\u001b[0m\u001b[0;34m\u001b[0m\u001b[0;34m\u001b[0m\u001b[0m\n\u001b[0m\u001b[1;32m    418\u001b[0m     \u001b[0;32mreturn\u001b[0m \u001b[0mwrapper\u001b[0m\u001b[0;34m\u001b[0m\u001b[0;34m\u001b[0m\u001b[0m\n\u001b[1;32m    419\u001b[0m \u001b[0;34m\u001b[0m\u001b[0m\n",
      "\u001b[0;32m~/.local/lib/python3.8/site-packages/fiona/__init__.py\u001b[0m in \u001b[0;36mopen\u001b[0;34m(fp, mode, driver, schema, crs, encoding, layer, vfs, enabled_drivers, crs_wkt, **kwargs)\u001b[0m\n\u001b[1;32m    254\u001b[0m \u001b[0;34m\u001b[0m\u001b[0m\n\u001b[1;32m    255\u001b[0m         \u001b[0;32mif\u001b[0m \u001b[0mmode\u001b[0m \u001b[0;32min\u001b[0m \u001b[0;34m(\u001b[0m\u001b[0;34m'a'\u001b[0m\u001b[0;34m,\u001b[0m \u001b[0;34m'r'\u001b[0m\u001b[0;34m)\u001b[0m\u001b[0;34m:\u001b[0m\u001b[0;34m\u001b[0m\u001b[0;34m\u001b[0m\u001b[0m\n\u001b[0;32m--> 256\u001b[0;31m             c = Collection(path, mode, driver=driver, encoding=encoding,\n\u001b[0m\u001b[1;32m    257\u001b[0m                            layer=layer, enabled_drivers=enabled_drivers, **kwargs)\n\u001b[1;32m    258\u001b[0m         \u001b[0;32melif\u001b[0m \u001b[0mmode\u001b[0m \u001b[0;34m==\u001b[0m \u001b[0;34m'w'\u001b[0m\u001b[0;34m:\u001b[0m\u001b[0;34m\u001b[0m\u001b[0;34m\u001b[0m\u001b[0m\n",
      "\u001b[0;32m~/.local/lib/python3.8/site-packages/fiona/collection.py\u001b[0m in \u001b[0;36m__init__\u001b[0;34m(self, path, mode, driver, schema, crs, encoding, layer, vsi, archive, enabled_drivers, crs_wkt, ignore_fields, ignore_geometry, **kwargs)\u001b[0m\n\u001b[1;32m    160\u001b[0m             \u001b[0;32mif\u001b[0m \u001b[0mself\u001b[0m\u001b[0;34m.\u001b[0m\u001b[0mmode\u001b[0m \u001b[0;34m==\u001b[0m \u001b[0;34m'r'\u001b[0m\u001b[0;34m:\u001b[0m\u001b[0;34m\u001b[0m\u001b[0;34m\u001b[0m\u001b[0m\n\u001b[1;32m    161\u001b[0m                 \u001b[0mself\u001b[0m\u001b[0;34m.\u001b[0m\u001b[0msession\u001b[0m \u001b[0;34m=\u001b[0m \u001b[0mSession\u001b[0m\u001b[0;34m(\u001b[0m\u001b[0;34m)\u001b[0m\u001b[0;34m\u001b[0m\u001b[0;34m\u001b[0m\u001b[0m\n\u001b[0;32m--> 162\u001b[0;31m                 \u001b[0mself\u001b[0m\u001b[0;34m.\u001b[0m\u001b[0msession\u001b[0m\u001b[0;34m.\u001b[0m\u001b[0mstart\u001b[0m\u001b[0;34m(\u001b[0m\u001b[0mself\u001b[0m\u001b[0;34m,\u001b[0m \u001b[0;34m**\u001b[0m\u001b[0mkwargs\u001b[0m\u001b[0;34m)\u001b[0m\u001b[0;34m\u001b[0m\u001b[0;34m\u001b[0m\u001b[0m\n\u001b[0m\u001b[1;32m    163\u001b[0m             \u001b[0;32melif\u001b[0m \u001b[0mself\u001b[0m\u001b[0;34m.\u001b[0m\u001b[0mmode\u001b[0m \u001b[0;32min\u001b[0m \u001b[0;34m(\u001b[0m\u001b[0;34m'a'\u001b[0m\u001b[0;34m,\u001b[0m \u001b[0;34m'w'\u001b[0m\u001b[0;34m)\u001b[0m\u001b[0;34m:\u001b[0m\u001b[0;34m\u001b[0m\u001b[0;34m\u001b[0m\u001b[0m\n\u001b[1;32m    164\u001b[0m                 \u001b[0mself\u001b[0m\u001b[0;34m.\u001b[0m\u001b[0msession\u001b[0m \u001b[0;34m=\u001b[0m \u001b[0mWritingSession\u001b[0m\u001b[0;34m(\u001b[0m\u001b[0;34m)\u001b[0m\u001b[0;34m\u001b[0m\u001b[0;34m\u001b[0m\u001b[0m\n",
      "\u001b[0;32mfiona/ogrext.pyx\u001b[0m in \u001b[0;36mfiona.ogrext.Session.start\u001b[0;34m()\u001b[0m\n",
      "\u001b[0;32mfiona/_shim.pyx\u001b[0m in \u001b[0;36mfiona._shim.gdal_open_vector\u001b[0;34m()\u001b[0m\n",
      "\u001b[0;31mDriverError\u001b[0m: ./BATI3D_2013-2014_FILEGDB_31370/BATI3D_2013-2014.gdb: No such file or directory"
     ]
    }
   ],
   "source": [
    "gdb = fiona.open('./BATI3D_2013-2014_FILEGDB_31370/BATI3D_2013-2014.gdb', layer=1)\n",
    "hits = list(gdb.items(bbox=(xMin, yMin, xMax, yMax)))\n",
    "meshes = []\n",
    "for hit in hits:\n",
    "    points = hit[1]['geometry']['coordinates']\n",
    "    pts = [item for sublist in points for sitem in sublist for item in sitem]\n",
    "    pcd = o3d.geometry.PointCloud()\n",
    "    pcd.points = o3d.utility.Vector3dVector(pts)\n",
    "    mesh = pcd.compute_convex_hull()\n",
    "    meshes.append(mesh[0])\n",
    "o3d.visualization.draw_geometries(meshes, point_show_normal=True, mesh_show_wireframe=True, mesh_show_back_face=True)"
   ]
  },
  {
   "cell_type": "code",
   "execution_count": 4,
   "metadata": {},
   "outputs": [],
   "source": [
    "# Christophe Schenke \n",
    "# christophe.shanke@spw.walonnie.be  \n",
    "# 0475 95 4570"
   ]
  },
  {
   "cell_type": "code",
   "execution_count": 6,
   "metadata": {},
   "outputs": [],
   "source": [
    "from pyproj import Transformer\n",
    "def lambert_to_wgs(x_lambert, y_lambert):\n",
    "    transformer = Transformer.from_crs(\"epsg:31370\", \"epsg:4326\")\n",
    "    x_wgs, y_wgs = transformer.transform(x_lambert, y_lambert)\n",
    "    return x_wgs, y_wgs\n",
    "\n",
    "def wgs_to_lambert(x_wgs, y_wgs):\n",
    "    transformer = Transformer.from_crs(\"epsg:4326\", \"epsg:31370\")\n",
    "    x_lambert, y_lambert = transformer.transform(x_wgs, y_wgs)\n",
    "    return x_lambert, y_lambert\n",
    "\n",
    "# x, y, xMin, xMax, yMin, yMax = search_address(cp='5000', rue='RUE DE LA CRETE', num = '111', as_wgs=False)\n",
    "def search_address(cp, rue, num, as_wgs=False, as_dict=False, boundary=False):    \n",
    "    url = 'http://geoservices.wallonie.be/geolocalisation/rest/getPositionByCpRueAndNumero/{cp}/{rue}/{num}'\n",
    "    r = requests.get(url.format(cp=cp, rue=rue, num=num)).json()\n",
    "    x, y, xMin, xMax, yMin, yMax = r['x'], r['y'], r['rue']['xMin'], r['rue']['xMax'], r['rue']['yMin'], r['rue']['yMax']\n",
    "    if as_wgs:\n",
    "        x, y       = lambert_to_wgs(x, y)\n",
    "        xMin, xMax = lambert_to_wgs(xMin, xMax)\n",
    "        yMin, yMax = lambert_to_wgs(yMin, yMax)\n",
    "    if as_dict:\n",
    "        return {'x': x, 'xMin': xMin, 'xMax': xMax, \n",
    "                'y': y, 'yMin': yMin, 'yMax': yMax}\n",
    "    return x, y, xMin, xMax, yMin, yMax\n",
    "\n",
    "#x, y, xMin, xMax, yMin, yMax = search_address_mapbox(\"Rue du roton 38, 6000 Charleroi\", as_wgs=False, boundary=150)\n",
    "def search_address_mapbox(address, as_wgs=False, as_dict=False, boundary=100):\n",
    "    key = 'pk.eyJ1IjoiYmFjYXlhdzU1OSIsImEiOiJja2dtNTgyNW8wMWN2MnBzM2loNGt4NmlzIn0.3IYulU7qzfpq2Ms0aaYWMQ'\n",
    "    url = \"https://api.mapbox.com/geocoding/v5/mapbox.places/{address}.json?types=address&access_token={key}\"\n",
    "    r = requests.get(url.format(address=address,key=key))\n",
    "    if r.status_code != 200:\n",
    "        return 'NotFound'\n",
    "    r = r.json()\n",
    "    y, x = r['features'][0]['center']\n",
    "    x, y = wgs_to_lambert(x, y)\n",
    "    xMin, xMax = x - boundary, x + boundary\n",
    "    yMin, yMax = y - boundary, y + boundary\n",
    "    if as_wgs:\n",
    "        x, y       = lambert_to_wgs(x, y)\n",
    "        xMin, xMax = lambert_to_wgs(xMin, xMax)\n",
    "        yMin, yMax = lambert_to_wgs(yMin, yMax) \n",
    "    if as_dict:\n",
    "        return {'x': x, 'xMin': xMin, 'xMax': xMax, \n",
    "                'y': y, 'yMin': yMin, 'yMax': yMax}\n",
    "    return x, y, xMin, xMax, yMin, yMax\n",
    "\n",
    "def is_in_bbox(x, y, bbox):\n",
    "    xMin, yMin, xMax, yMax = bbox\n",
    "    if xMin <= x <= xMax and  yMin <= y <= yMax:\n",
    "        return True\n",
    "    return False\n",
    "\n",
    "def find_files(xMin, xMax, yMin, yMax):\n",
    "    bboxes = {key:rasterio.open(next(iter(DATAS[key].values()))).bounds for key in DATAS.keys()}\n",
    "    for k, bbox in bboxes.items():\n",
    "        if is_in_bbox(xMin, yMin, bbox) and is_in_bbox(xMax, yMax, bbox):\n",
    "            return DATAS[k]\n",
    "    return 'File not found'\n",
    "\n",
    "def getFeatures(gdf):\n",
    "    \"\"\"Function to parse features from GeoDataFrame in such a manner that rasterio wants them\"\"\"\n",
    "    return [json.loads(gdf.to_json())['features'][0]['geometry']]\n",
    "\n",
    "def subsetTif(xMin, xMax, yMin, yMax, in_tif, out_tif=None):\n",
    "    if out_tif == None:\n",
    "        out_tif = datetime.now().strftime('%Y%m%d_%H%M%S.%f') + '.tif'\n",
    "    data = rasterio.open(in_tif)\n",
    "    geo = gpd.GeoDataFrame({'geometry': box(xMin, yMin, xMax, yMax)}, index=[0], crs=from_epsg(31370))\n",
    "    out_img, out_transform = mask(dataset=data, shapes=getFeatures(geo), filled=False, crop=True)\n",
    "    out_meta = data.meta.copy()\n",
    "    out_meta.update({\"driver\": \"GTiff\",\n",
    "                 \"height\": out_img.shape[1],\n",
    "                 \"width\": out_img.shape[2],\n",
    "                 \"transform\": out_transform,\n",
    "                \"crs\": pycrs.parse.from_epsg_code(31370).to_proj4()\n",
    "                    })\n",
    "    with rasterio.open(out_tif, \"w\", **out_meta) as dest:\n",
    "        dest.write(out_img)\n",
    "    return out_tif\n",
    "\n",
    "#show_tif('subset.tif', title=address, hillshade=False)\n",
    "def show_tif(tif, title=None, hillshade=False):\n",
    "    if title == None:\n",
    "        title = tif\n",
    "    colors = [[0.0, 'rgb(000, 063, 076)'], [0.1, 'rgb(029, 081, 059)'], [0.2, 'rgb(055, 098, 043)'], \n",
    "             [0.3, 'rgb(079, 114, 030)'], [0.4, 'rgb(103, 129, 016)'], [0.5, 'rgb(136, 142, 002)'], \n",
    "             [0.6, 'rgb(169, 154, 021)'], [0.7, 'rgb(192, 171, 045)'], [0.8, 'rgb(214, 188, 074)'],\n",
    "             [0.9, 'rgb(234, 209, 112)'], [1.0, 'rgb(254, 229, 152)']]\n",
    "    \n",
    "    with rasterio.open(tif) as src:\n",
    "        data = src.read(1)\n",
    "\n",
    "    if hillshade:\n",
    "        light = LightSource(azdeg=315, altdeg=45)\n",
    "        data = light.hillshade(data, vert_exag=1)     \n",
    "\n",
    "    fig = px.imshow(data, color_continuous_scale=colors)\n",
    "    fig.update_traces(customdata=data, hovertemplate='elevation: %{customdata:.4f}')\n",
    "    fig.update_layout(**dict(title_text=title, width=700, height=500, template='none'))\n",
    "    return fig\n",
    "\n",
    "def create_chm(xMin, xMax, yMin, yMax):\n",
    "    files = find_files(xMin, xMax, yMin, yMax)\n",
    "    time = datetime.now().strftime('%Y%m%d_%H%M%S.%f') + '.tif'\n",
    "    for k, file in files.items():\n",
    "        subsetTif(xMin, xMax, yMin, yMax, file, k +'_'+time)\n",
    "    !gdal_calc.py -A MNS_$time -B MNT_$time --outfile=CHM_$time --calc=\"A-B\" --NoDataValue -9999 \n",
    "    return time"
   ]
  },
  {
   "cell_type": "code",
   "execution_count": 26,
   "metadata": {},
   "outputs": [
    {
     "name": "stderr",
     "output_type": "stream",
     "text": [
      "/home/bestycame/.local/lib/python3.8/site-packages/pyproj/crs/crs.py:53: FutureWarning:\n",
      "\n",
      "'+init=<authority>:<code>' syntax is deprecated. '<authority>:<code>' is the preferred initialization method. When making the change, be mindful of axis order changes: https://pyproj4.github.io/pyproj/stable/gotchas.html#axis-order-changes-in-proj-6\n",
      "\n"
     ]
    },
    {
     "name": "stdout",
     "output_type": "stream",
     "text": [
      "0.. 0.. 0.. 0.. 0.. 1.. 1.. 1.. 1.. 2.. 2.. 2.. 2.. 3.. 3.. 3.. 3.. 4.. 4.. 4.. 4.. 5.. 5.. 5.. 5.. 6.. 6.. 6.. 6.. 7.. 7.. 7.. 7.. 8.. 8.. 8.. 8.. 9.. 9.. 9.. 9.. 10.. 10.. 10.. 10.. 11.. 11.. 11.. 11.. 12.. 12.. 12.. 12.. 13.. 13.. 13.. 13.. 14.. 14.. 14.. 14.. 15.. 15.. 15.. 15.. 16.. 16.. 16.. 16.. 17.. 17.. 17.. 17.. 18.. 18.. 18.. 18.. 19.. 19.. 19.. 19.. 20.. 20.. 20.. 20.. 21.. 21.. 21.. 21.. 22.. 22.. 22.. 22.. 23.. 23.. 23.. 23.. 24.. 24.. 24.. 24.. 25.. 25.. 25.. 25.. 26.. 26.. 26.. 26.. 27.. 27.. 27.. 27.. 28.. 28.. 28.. 28.. 29.. 29.. 29.. 29.. 30.. 30.. 30.. 30.. 31.. 31.. 31.. 31.. 32.. 32.. 32.. 32.. 33.. 33.. 33.. 33.. 34.. 34.. 34.. 34.. 35.. 35.. 35.. 35.. 36.. 36.. 36.. 36.. 37.. 37.. 37.. 37.. 38.. 38.. 38.. 38.. 39.. 39.. 39.. 39.. 40.. 40.. 40.. 40.. 41.. 41.. 41.. 41.. 42.. 42.. 42.. 42.. 43.. 43.. 43.. 43.. 44.. 44.. 44.. 44.. 45.. 45.. 45.. 45.. 46.. 46.. 46.. 46.. 47.. 47.. 47.. 47.. 48.. 48.. 48.. 48.. 49.. 49.. 49.. 49.. 50.. 50.. 50.. 50.. 51.. 51.. 51.. 51.. 52.. 52.. 52.. 52.. 53.. 53.. 53.. 53.. 54.. 54.. 54.. 54.. 55.. 55.. 55.. 55.. 56.. 56.. 56.. 56.. 57.. 57.. 57.. 57.. 58.. 58.. 58.. 58.. 59.. 59.. 59.. 59.. 60.. 60.. 60.. 60.. 61.. 61.. 61.. 61.. 62.. 62.. 62.. 62.. 63.. 63.. 63.. 63.. 64.. 64.. 64.. 64.. 65.. 65.. 65.. 65.. 66.. 66.. 66.. 66.. 67.. 67.. 67.. 67.. 68.. 68.. 68.. 68.. 69.. 69.. 69.. 69.. 70.. 70.. 70.. 70.. 71.. 71.. 71.. 71.. 72.. 72.. 72.. 72.. 73.. 73.. 73.. 73.. 74.. 74.. 74.. 74.. 75.. 75.. 75.. 75.. 76.. 76.. 76.. 76.. 77.. 77.. 77.. 77.. 78.. 78.. 78.. 78.. 79.. 79.. 79.. 79.. 80.. 80.. 80.. 80.. 81.. 81.. 81.. 81.. 82.. 82.. 82.. 82.. 83.. 83.. 83.. 83.. 84.. 84.. 84.. 84.. 85.. 85.. 85.. 85.. 86.. 86.. 86.. 86.. 87.. 87.. 87.. 87.. 88.. 88.. 88.. 88.. 89.. 89.. 89.. 89.. 90.. 90.. 90.. 90.. 91.. 91.. 91.. 91.. 92.. 92.. 92.. 92.. 93.. 93.. 93.. 93.. 94.. 94.. 94.. 94.. 95.. 95.. 95.. 95.. 96.. 96.. 96.. 96.. 97.. 97.. 97.. 97.. 98.. 98.. 98.. 98.. 99.. 99.. 99.. 99.. 100 - Done\r\n"
     ]
    }
   ],
   "source": [
    "address = \"Pont Roi Baudoin Charleroi\"\n",
    "x, y, xMin, xMax, yMin, yMax = search_address_mapbox(address, as_wgs=False, boundary=400)\n",
    "time = create_chm(xMin, xMax, yMin, yMax)"
   ]
  },
  {
   "cell_type": "code",
   "execution_count": 27,
   "metadata": {},
   "outputs": [],
   "source": [
    "gdb = fiona.open('./BATI3D_2013-2014.gdb', layer=0)\n",
    "hits = list(gdb.items(bbox=(xMin, yMin, xMax, yMax)))\n",
    "\n",
    "features = []\n",
    "for hit in hits:\n",
    "    features.append({'id':           hit[0],\n",
    "                        'H_MUR':        hit[1]['properties']['H_MUR'],\n",
    "                        'H_TOIT':       hit[1]['properties']['H_TOIT'],\n",
    "                        'E_TOIT':       hit[1]['properties']['E_TOIT'],\n",
    "                        'Q_LIDAR':      hit[1]['properties']['Q_LIDAR'],\n",
    "                        'Q_BATI' :      hit[1]['properties']['Q_BATI'],\n",
    "                        'SHAPE_Length': hit[1]['properties']['SHAPE_Length'],\n",
    "                        'SHAPE_Area':   hit[1]['properties']['SHAPE_Area'],\n",
    "                        'X': [int(x[0]) for x in hit[1]['geometry']['coordinates'][0][0]],\n",
    "                        'Y': [int(x[1]) for x in hit[1]['geometry']['coordinates'][0][0]]\n",
    "                       })"
   ]
  },
  {
   "cell_type": "code",
   "execution_count": 28,
   "metadata": {
    "scrolled": false
   },
   "outputs": [],
   "source": [
    "data = rasterio.open(f'CHM_{time}')\n",
    "xMin, yMin, xMax, yMax = data.bounds\n",
    "z_data = pd.DataFrame(data.read(1))\n",
    "z_data.index   = list(range(int(yMax), int(yMin), -1))\n",
    "z_data.columns = list(range(int(xMin), int(xMax)))\n",
    "z_data = z_data.applymap(lambda x: 0.5 if x < 1 else round(x, 1))\n",
    "\n",
    "fig = go.Figure(go.Surface(z=z_data.values, x=z_data.columns, y=z_data.index, opacity=1))\n",
    "         \n",
    "for feature in features:\n",
    "    fig.add_scatter3d(x=feature['X'], y=feature['Y'], z=[3]*len(feature['X']), \n",
    "                      mode='lines',showlegend=False, \n",
    "                      line=dict(color='red', width=10)\n",
    "                     )\n",
    "\n",
    "fig.update_layout(\n",
    "    title=address,\n",
    "    margin=dict(t=40, r=0, l=0, b=40),\n",
    "    scene = {\"xaxis\": {'showspikes': False},\n",
    "             \"yaxis\": {'showspikes': False},\n",
    "             \"zaxis\": {'showspikes': False},\n",
    "             'camera_eye': {\"x\": 0, \"y\": -0.5, \"z\": 0.5},\n",
    "             \"aspectratio\": {\"x\": 1, \"y\": 1, \"z\": 0.1}\n",
    "            })\n",
    "fig.update_geos(fitbounds=\"locations\", visible=False)\n",
    "fig.update_layout(margin={\"r\": 0, \"t\": 0, \"l\": 0, \"b\": 0})\n",
    "fig.write_html('./templates/map.html',\n",
    "                   full_html=False,\n",
    "                   include_plotlyjs='cdn')"
   ]
  }
 ],
 "metadata": {
  "kernelspec": {
   "display_name": "Python 3",
   "language": "python",
   "name": "python3"
  },
  "language_info": {
   "codemirror_mode": {
    "name": "ipython",
    "version": 3
   },
   "file_extension": ".py",
   "mimetype": "text/x-python",
   "name": "python",
   "nbconvert_exporter": "python",
   "pygments_lexer": "ipython3",
   "version": "3.8.6"
  }
 },
 "nbformat": 4,
 "nbformat_minor": 4
}
