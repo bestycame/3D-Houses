{
 "cells": [
  {
   "cell_type": "code",
   "execution_count": 23,
   "metadata": {},
   "outputs": [],
   "source": [
    "import rasterio\n",
    "from rasterio.features import shapes\n",
    "from rasterio.plot import show\n",
    "import numpy as np\n",
    "import pandas as pd\n",
    "import plotly.graph_objects as go\n",
    "import open3d as o3d\n",
    "import matplotlib.pyplot as plt\n",
    "import seaborn as sns\n",
    "import fiona"
   ]
  },
  {
   "cell_type": "code",
   "execution_count": 24,
   "metadata": {},
   "outputs": [],
   "source": [
    "# gdal_calc.py -A DSM/GeoTIFF/DHMVII_DSM_1m_testdata.tif -B ./dtm_1m.tif --outfile=CHM.tif --calc=\"A-B\" --NoDataValue=0\n",
    "# gdalwarp  DTM/GeoTIFF/DHMVII_DTM_5m_testdata.tif test.tif -tr 1 1 -r near\n",
    "# gdal_contour -3d -a elev chm.tif contour.shp -i 0.5 -snodata 0b"
   ]
  },
  {
   "cell_type": "code",
   "execution_count": 25,
   "metadata": {},
   "outputs": [],
   "source": [
    "from pyproj import Transformer\n",
    "def lambert_to_wgs(x_lambert, y_lambert):\n",
    "    transformer = Transformer.from_crs(\"epsg:31370\", \"epsg:4326\")\n",
    "    x_wgs, y_wgs = transformer.transform(x_lambert, y_lambert)\n",
    "    return x_wgs, y_wgs\n",
    "\n",
    "import requests\n",
    "def search_address(cp, rue, num, as_wgs=False, as_dict=False):    \n",
    "    url = 'http://geoservices.wallonie.be/geolocalisation/rest/getPositionByCpRueAndNumero/{cp}/{rue}/{num}'\n",
    "    r = requests.get(url.format(cp=cp, rue=rue, num=num)).json()\n",
    "    x, y, xMin, xMax, yMin, yMax = r['x'], r['y'], r['rue']['xMin'], r['rue']['xMax'], r['rue']['yMin'], r['rue']['yMax']\n",
    "    if as_wgs:\n",
    "        x, y       = lambert_to_wgs(x, y)\n",
    "        xMin, xMax = lambert_to_wgs(xMin, xMax)\n",
    "        yMin, yMax = lambert_to_wgs(yMin, yMax)\n",
    "    if as_dict:\n",
    "        return {'x': x, 'xMin': xMin, 'xMax': xMax, \n",
    "                'y': y, 'yMin': yMin, 'yMax': yMax}\n",
    "    return x, y, xMin, xMax, yMin, yMax"
   ]
  },
  {
   "cell_type": "code",
   "execution_count": 50,
   "metadata": {},
   "outputs": [],
   "source": [
    "x, y, xMin, xMax, yMin, yMax = search_address(cp='5000', rue='RUE DE LA CRETE', num = '111', as_wgs=False)"
   ]
  },
  {
   "cell_type": "code",
   "execution_count": 74,
   "metadata": {},
   "outputs": [
    {
     "data": {
      "text/plain": [
       "(185034.777599998, 187088.6096, 129235.137499999, 131179.935800001)"
      ]
     },
     "execution_count": 74,
     "metadata": {},
     "output_type": "execute_result"
    }
   ],
   "source": [
    "xMin, xMax, yMin, yMax"
   ]
  },
  {
   "cell_type": "code",
   "execution_count": 67,
   "metadata": {},
   "outputs": [],
   "source": [
    "xMin, xMax, yMin, yMax = xMin-250, xMax+1000, yMin-250, yMax+1000"
   ]
  },
  {
   "cell_type": "code",
   "execution_count": 68,
   "metadata": {},
   "outputs": [],
   "source": [
    "# Christophe Schenke \n",
    "# christophe.shanke@spw.walonnie.be  \n",
    "# 0475 95 4570"
   ]
  },
  {
   "cell_type": "code",
   "execution_count": 69,
   "metadata": {},
   "outputs": [],
   "source": [
    "#from fiona.transform import transform_geom\n",
    "#hits[0][1]['geometry']  = transform_geom(\"epsg:31370\", \"epsg:4326\", hits[0][1]['geometry'])"
   ]
  },
  {
   "cell_type": "code",
   "execution_count": 70,
   "metadata": {
    "scrolled": false
   },
   "outputs": [],
   "source": [
    "import fiona\n",
    "gdb = fiona.open('./BATI3D_2013-2014_FILEGDB_31370/BATI3D_2013-2014.gdb', layer=1)\n",
    "hits = list(gdb.items(bbox=(xMin, yMin, xMax, yMax)))"
   ]
  },
  {
   "cell_type": "code",
   "execution_count": 71,
   "metadata": {},
   "outputs": [
    {
     "name": "stdout",
     "output_type": "stream",
     "text": [
      "CPU times: user 59 s, sys: 6.97 s, total: 1min 5s\n",
      "Wall time: 1min 31s\n"
     ]
    }
   ],
   "source": [
    "%%time\n",
    "import open3d as o3d\n",
    "meshes = []\n",
    "for hit in hits:\n",
    "    points = hit[1]['geometry']['coordinates']\n",
    "    pts = [item for sublist in points for sitem in sublist for item in sitem]\n",
    "    pcd = o3d.geometry.PointCloud()\n",
    "    pcd.points = o3d.utility.Vector3dVector(pts)\n",
    "    mesh = pcd.compute_convex_hull()\n",
    "    meshes.append(mesh[0])\n",
    "o3d.visualization.draw_geometries(meshes, mesh_show_wireframe=True, mesh_show_back_face=True)"
   ]
  },
  {
   "cell_type": "code",
   "execution_count": 12,
   "metadata": {},
   "outputs": [],
   "source": [
    "def geocode(address):\n",
    "    mapbox_api_key = 'pk.eyJ1Ijoia3Jva3JvYiIsImEiOiJjam83MjVrbWkwbWNoM3FwN2VhMm81eGRzIn0.yM3wkq5LJd8NeSYyPyTY4w'\n",
    "    g = geocoder.mapbox(address, key=mapbox_api_key)\n",
    "    return (g.json['lat'], g.json['lng'])"
   ]
  },
  {
   "cell_type": "code",
   "execution_count": 72,
   "metadata": {},
   "outputs": [
    {
     "data": {
      "text/plain": [
       "[[[(185185.49300000072, 129229.93600000069, 90.10000000000582),\n",
       "   (185181.67700000107, 129235.54800000042, 90.10000000000582),\n",
       "   (185173.68400000036, 129230.37999999896, 90.10000000000582),\n",
       "   (185177.53299999982, 129224.68699999899, 90.10000000000582),\n",
       "   (185184.7580000013, 129229.48600000143, 90.10000000000582),\n",
       "   (185185.49300000072, 129229.93600000069, 90.10000000000582)]],\n",
       " [[(185184.7580000013, 129229.48600000143, 90.10000000000582),\n",
       "   (185184.7580000013, 129229.48600000143, 100.62810000000172),\n",
       "   (185185.49300000072, 129229.93600000069, 100.62810000000172),\n",
       "   (185185.49300000072, 129229.93600000069, 90.10000000000582),\n",
       "   (185184.7580000013, 129229.48600000143, 90.10000000000582)]],\n",
       " [[(185177.53299999982, 129224.68699999899, 90.10000000000582),\n",
       "   (185177.53299999982, 129224.68699999899, 100.62810000000172),\n",
       "   (185184.7580000013, 129229.48600000143, 100.62810000000172),\n",
       "   (185184.7580000013, 129229.48600000143, 90.10000000000582),\n",
       "   (185177.53299999982, 129224.68699999899, 90.10000000000582)]],\n",
       " [[(185173.68400000036, 129230.37999999896, 90.10000000000582),\n",
       "   (185173.68400000036, 129230.37999999896, 100.62810000000172),\n",
       "   (185177.53299999982, 129224.68699999899, 100.62810000000172),\n",
       "   (185177.53299999982, 129224.68699999899, 90.10000000000582),\n",
       "   (185173.68400000036, 129230.37999999896, 90.10000000000582)]],\n",
       " [[(185181.67700000107, 129235.54800000042, 90.10000000000582),\n",
       "   (185181.67700000107, 129235.54800000042, 100.62810000000172),\n",
       "   (185173.68400000036, 129230.37999999896, 100.62810000000172),\n",
       "   (185173.68400000036, 129230.37999999896, 90.10000000000582),\n",
       "   (185181.67700000107, 129235.54800000042, 90.10000000000582)]],\n",
       " [[(185185.49300000072, 129229.93600000069, 90.10000000000582),\n",
       "   (185185.49300000072, 129229.93600000069, 100.62810000000172),\n",
       "   (185181.67700000107, 129235.54800000042, 100.62810000000172),\n",
       "   (185181.67700000107, 129235.54800000042, 90.10000000000582),\n",
       "   (185185.49300000072, 129229.93600000069, 90.10000000000582)]],\n",
       " [[(185185.49300000072, 129229.93600000069, 100.62810000000172),\n",
       "   (185184.7580000013, 129229.48600000143, 100.62810000000172),\n",
       "   (185177.53299999982, 129224.68699999899, 100.62810000000172),\n",
       "   (185173.68400000036, 129230.37999999896, 100.62810000000172),\n",
       "   (185181.67700000107, 129235.54800000042, 100.62810000000172),\n",
       "   (185185.49300000072, 129229.93600000069, 100.62810000000172)]]]"
      ]
     },
     "execution_count": 72,
     "metadata": {},
     "output_type": "execute_result"
    }
   ],
   "source": []
  },
  {
   "cell_type": "code",
   "execution_count": 73,
   "metadata": {},
   "outputs": [
    {
     "data": {
      "text/plain": [
       "[(185185.49300000072, 129229.93600000069, 90.10000000000582),\n",
       " (185181.67700000107, 129235.54800000042, 90.10000000000582),\n",
       " (185173.68400000036, 129230.37999999896, 90.10000000000582),\n",
       " (185177.53299999982, 129224.68699999899, 90.10000000000582),\n",
       " (185184.7580000013, 129229.48600000143, 90.10000000000582),\n",
       " (185185.49300000072, 129229.93600000069, 90.10000000000582),\n",
       " (185184.7580000013, 129229.48600000143, 90.10000000000582),\n",
       " (185184.7580000013, 129229.48600000143, 100.62810000000172),\n",
       " (185185.49300000072, 129229.93600000069, 100.62810000000172),\n",
       " (185185.49300000072, 129229.93600000069, 90.10000000000582),\n",
       " (185184.7580000013, 129229.48600000143, 90.10000000000582),\n",
       " (185177.53299999982, 129224.68699999899, 90.10000000000582),\n",
       " (185177.53299999982, 129224.68699999899, 100.62810000000172),\n",
       " (185184.7580000013, 129229.48600000143, 100.62810000000172),\n",
       " (185184.7580000013, 129229.48600000143, 90.10000000000582),\n",
       " (185177.53299999982, 129224.68699999899, 90.10000000000582),\n",
       " (185173.68400000036, 129230.37999999896, 90.10000000000582),\n",
       " (185173.68400000036, 129230.37999999896, 100.62810000000172),\n",
       " (185177.53299999982, 129224.68699999899, 100.62810000000172),\n",
       " (185177.53299999982, 129224.68699999899, 90.10000000000582),\n",
       " (185173.68400000036, 129230.37999999896, 90.10000000000582),\n",
       " (185181.67700000107, 129235.54800000042, 90.10000000000582),\n",
       " (185181.67700000107, 129235.54800000042, 100.62810000000172),\n",
       " (185173.68400000036, 129230.37999999896, 100.62810000000172),\n",
       " (185173.68400000036, 129230.37999999896, 90.10000000000582),\n",
       " (185181.67700000107, 129235.54800000042, 90.10000000000582),\n",
       " (185185.49300000072, 129229.93600000069, 90.10000000000582),\n",
       " (185185.49300000072, 129229.93600000069, 100.62810000000172),\n",
       " (185181.67700000107, 129235.54800000042, 100.62810000000172),\n",
       " (185181.67700000107, 129235.54800000042, 90.10000000000582),\n",
       " (185185.49300000072, 129229.93600000069, 90.10000000000582),\n",
       " (185185.49300000072, 129229.93600000069, 100.62810000000172),\n",
       " (185184.7580000013, 129229.48600000143, 100.62810000000172),\n",
       " (185177.53299999982, 129224.68699999899, 100.62810000000172),\n",
       " (185173.68400000036, 129230.37999999896, 100.62810000000172),\n",
       " (185181.67700000107, 129235.54800000042, 100.62810000000172),\n",
       " (185185.49300000072, 129229.93600000069, 100.62810000000172)]"
      ]
     },
     "execution_count": 73,
     "metadata": {},
     "output_type": "execute_result"
    }
   ],
   "source": [
    "[item for sublist in hits[0][1]['geometry']['coordinates'] for sitem in sublist for item in sitem]"
   ]
  },
  {
   "cell_type": "code",
   "execution_count": null,
   "metadata": {},
   "outputs": [],
   "source": []
  }
 ],
 "metadata": {
  "kernelspec": {
   "display_name": "Python 3",
   "language": "python",
   "name": "python3"
  },
  "language_info": {
   "codemirror_mode": {
    "name": "ipython",
    "version": 3
   },
   "file_extension": ".py",
   "mimetype": "text/x-python",
   "name": "python",
   "nbconvert_exporter": "python",
   "pygments_lexer": "ipython3",
   "version": "3.8.6"
  }
 },
 "nbformat": 4,
 "nbformat_minor": 4
}
